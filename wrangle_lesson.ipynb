{
 "cells": [
  {
   "cell_type": "markdown",
   "metadata": {},
   "source": [
    "# Data Wrangling\n",
    "In this lesson, we will acquire and prepare the data we will use in the rest of this module"
   ]
  },
  {
   "cell_type": "code",
   "execution_count": 1,
   "metadata": {},
   "outputs": [],
   "source": [
    "from pyspark.sql import SparkSession\n",
    "from pyspark.sql.functions import *\n",
    "\n",
    "spark = SparkSession.builder.getOrCreate()"
   ]
  },
  {
   "cell_type": "markdown",
   "metadata": {},
   "source": [
    "# Reading Data\n",
    "Spark lets us read data in from a variety of data sources using what it calls a `DataFrameReader`. We can access the `read` property of our `spark` obect and then set various options and read from a data source."
   ]
  },
  {
   "cell_type": "code",
   "execution_count": 2,
   "metadata": {},
   "outputs": [],
   "source": [
    "df = spark.read.csv(\"source.csv\", sep = \",\", header=True, inferSchema=True)"
   ]
  },
  {
   "cell_type": "code",
   "execution_count": 3,
   "metadata": {},
   "outputs": [
    {
     "name": "stdout",
     "output_type": "stream",
     "text": [
      "+---------+--------------------+\n",
      "|source_id|     source_username|\n",
      "+---------+--------------------+\n",
      "|   100137|    Merlene Blodgett|\n",
      "|   103582|         Carmen Cura|\n",
      "|   106463|     Richard Sanchez|\n",
      "|   119403|      Betty De Hoyos|\n",
      "|   119555|      Socorro Quiara|\n",
      "|   119868| Michelle San Miguel|\n",
      "|   120752|      Eva T. Kleiber|\n",
      "|   124405|           Lori Lara|\n",
      "|   132408|       Leonard Silva|\n",
      "|   135723|        Amy Cardenas|\n",
      "|   136202|    Michelle Urrutia|\n",
      "|   136979|      Leticia Garcia|\n",
      "|   137943|    Pamela K. Baccus|\n",
      "|   138605|        Marisa Ozuna|\n",
      "|   138650|      Kimberly Green|\n",
      "|   138650|Kimberly Green-Woods|\n",
      "|   138793| Guadalupe Rodriguez|\n",
      "|   138810|       Tawona Martin|\n",
      "|   139342|     Jessica Mendoza|\n",
      "|   139344|        Isis Mendoza|\n",
      "+---------+--------------------+\n",
      "only showing top 20 rows\n",
      "\n"
     ]
    }
   ],
   "source": [
    "df.show()"
   ]
  },
  {
   "cell_type": "markdown",
   "metadata": {},
   "source": [
    "## Data Schemas\n",
    "Spark includes a concept of a data schema, which is a way to specify the types of our data ahead of time. Doing so lets us be sure about the structure of our data, and can significantly increase the speed of loading data (inferring the schema can be a costly operation for large datasets).\n",
    "\n",
    "We'll import several things from the `pyspark.sql.types` module:\n",
    "\n",
    "- `StringType`\n",
    "- `DoubleType`\n",
    "- `IntegerType`\n",
    "- `LongType`\n",
    "- `ShortType`\n",
    "- `TimestampType`\n",
    "- `FloatType`\n",
    "- `DateType`\n",
    "\n",
    "All of the above types will go inside of a `StructField`, which will be encapsulated in a `StructType`, and the resulting object will represent our data schema."
   ]
  },
  {
   "cell_type": "code",
   "execution_count": 4,
   "metadata": {},
   "outputs": [
    {
     "data": {
      "text/plain": [
       "DataFrame[source_id: string, source_username: string]"
      ]
     },
     "execution_count": 4,
     "metadata": {},
     "output_type": "execute_result"
    }
   ],
   "source": [
    "from pyspark.sql.types import StructType, StructField, StringType\n",
    "\n",
    "schema = StructType(\n",
    "    [\n",
    "        StructField(\"source_id\", StringType()),\n",
    "        StructField(\"source_username\", StringType()),\n",
    "    ]\n",
    ")\n",
    "\n",
    "spark.read.csv(\"source.csv\", header=True, schema=schema)"
   ]
  },
  {
   "cell_type": "markdown",
   "metadata": {},
   "source": [
    "Notice that instead of `inferSchema=True`, we pass the `schema` object in to the `read.csv` call."
   ]
  },
  {
   "cell_type": "markdown",
   "metadata": {},
   "source": [
    "## Writing Data\n",
    "A spark dataframe can be written to a local destination using the `.write` property. Several common output formats are:\n",
    "- `csv`: for writing to a local csv file(s)\n",
    "- `parquet`: Parwuet is a very popular columnar storage format for Hadoop.\n",
    "- `json`: for writing to a local json file(s)\n",
    "- `jdbc`: for writing to a SQL database table"
   ]
  },
  {
   "cell_type": "code",
   "execution_count": null,
   "metadata": {},
   "outputs": [],
   "source": []
  },
  {
   "cell_type": "code",
   "execution_count": null,
   "metadata": {},
   "outputs": [],
   "source": []
  },
  {
   "cell_type": "markdown",
   "metadata": {},
   "source": [
    "# Follow Up Lesson\n",
    "## Data Prep"
   ]
  },
  {
   "cell_type": "code",
   "execution_count": 5,
   "metadata": {},
   "outputs": [
    {
     "name": "stdout",
     "output_type": "stream",
     "text": [
      "root\n",
      " |-- case_id: integer (nullable = true)\n",
      " |-- case_opened_date: string (nullable = true)\n",
      " |-- case_closed_date: string (nullable = true)\n",
      " |-- SLA_due_date: string (nullable = true)\n",
      " |-- case_late: string (nullable = true)\n",
      " |-- num_days_late: double (nullable = true)\n",
      " |-- case_closed: string (nullable = true)\n",
      " |-- dept_division: string (nullable = true)\n",
      " |-- service_request_type: string (nullable = true)\n",
      " |-- SLA_days: double (nullable = true)\n",
      " |-- case_status: string (nullable = true)\n",
      " |-- source_id: string (nullable = true)\n",
      " |-- request_address: string (nullable = true)\n",
      " |-- council_district: integer (nullable = true)\n",
      "\n",
      "-RECORD 0------------------------------------\n",
      " case_id              | 1014127332           \n",
      " case_opened_date     | 1/1/18 0:42          \n",
      " case_closed_date     | 1/1/18 12:29         \n",
      " SLA_due_date         | 9/26/20 0:42         \n",
      " case_late            | NO                   \n",
      " num_days_late        | -998.5087616000001   \n",
      " case_closed          | YES                  \n",
      " dept_division        | Field Operations     \n",
      " service_request_type | Stray Animal         \n",
      " SLA_days             | 999.0                \n",
      " case_status          | Closed               \n",
      " source_id            | svcCRMLS             \n",
      " request_address      | 2315  EL PASO ST,... \n",
      " council_district     | 5                    \n",
      "-RECORD 1------------------------------------\n",
      " case_id              | 1014127333           \n",
      " case_opened_date     | 1/1/18 0:46          \n",
      " case_closed_date     | 1/3/18 8:11          \n",
      " SLA_due_date         | 1/5/18 8:30          \n",
      " case_late            | NO                   \n",
      " num_days_late        | -2.0126041669999997  \n",
      " case_closed          | YES                  \n",
      " dept_division        | Storm Water          \n",
      " service_request_type | Removal Of Obstru... \n",
      " SLA_days             | 4.322222222          \n",
      " case_status          | Closed               \n",
      " source_id            | svcCRMSS             \n",
      " request_address      | 2215  GOLIAD RD, ... \n",
      " council_district     | 3                    \n",
      "-RECORD 2------------------------------------\n",
      " case_id              | 1014127334           \n",
      " case_opened_date     | 1/1/18 0:48          \n",
      " case_closed_date     | 1/2/18 7:57          \n",
      " SLA_due_date         | 1/5/18 8:30          \n",
      " case_late            | NO                   \n",
      " num_days_late        | -3.022337963         \n",
      " case_closed          | YES                  \n",
      " dept_division        | Storm Water          \n",
      " service_request_type | Removal Of Obstru... \n",
      " SLA_days             | 4.320729167          \n",
      " case_status          | Closed               \n",
      " source_id            | svcCRMSS             \n",
      " request_address      | 102  PALFREY ST W... \n",
      " council_district     | 3                    \n",
      "-RECORD 3------------------------------------\n",
      " case_id              | 1014127335           \n",
      " case_opened_date     | 1/1/18 1:29          \n",
      " case_closed_date     | 1/2/18 8:13          \n",
      " SLA_due_date         | 1/17/18 8:30         \n",
      " case_late            | NO                   \n",
      " num_days_late        | -15.01148148         \n",
      " case_closed          | YES                  \n",
      " dept_division        | Code Enforcement     \n",
      " service_request_type | Front Or Side Yar... \n",
      " SLA_days             | 16.29188657          \n",
      " case_status          | Closed               \n",
      " source_id            | svcCRMSS             \n",
      " request_address      | 114  LA GARDE ST,... \n",
      " council_district     | 3                    \n",
      "-RECORD 4------------------------------------\n",
      " case_id              | 1014127336           \n",
      " case_opened_date     | 1/1/18 1:34          \n",
      " case_closed_date     | 1/1/18 13:29         \n",
      " SLA_due_date         | 1/1/18 4:34          \n",
      " case_late            | YES                  \n",
      " num_days_late        | 0.37216435200000003  \n",
      " case_closed          | YES                  \n",
      " dept_division        | Field Operations     \n",
      " service_request_type | Animal Cruelty(Cr... \n",
      " SLA_days             | 0.125                \n",
      " case_status          | Closed               \n",
      " source_id            | svcCRMSS             \n",
      " request_address      | 734  CLEARVIEW DR... \n",
      " council_district     | 7                    \n",
      "only showing top 5 rows\n",
      "\n"
     ]
    }
   ],
   "source": [
    "df2 = spark.read.csv('case.csv', header=True, inferSchema=True)\n",
    "df2.printSchema()\n",
    "df2.show(5, vertical=True)"
   ]
  },
  {
   "cell_type": "code",
   "execution_count": 6,
   "metadata": {},
   "outputs": [
    {
     "name": "stdout",
     "output_type": "stream",
     "text": [
      "-RECORD 0------------------------------------\n",
      " case_id              | 1014127332           \n",
      " case_opened_date     | 1/1/18 0:42          \n",
      " case_closed_date     | 1/1/18 12:29         \n",
      " case_due_date        | 9/26/20 0:42         \n",
      " case_late            | NO                   \n",
      " num_days_late        | -998.5087616000001   \n",
      " case_closed          | YES                  \n",
      " dept_division        | Field Operations     \n",
      " service_request_type | Stray Animal         \n",
      " SLA_days             | 999.0                \n",
      " case_status          | Closed               \n",
      " source_id            | svcCRMLS             \n",
      " request_address      | 2315  EL PASO ST,... \n",
      " council_district     | 5                    \n",
      "only showing top 1 row\n",
      "\n"
     ]
    }
   ],
   "source": [
    "df2.withColumnRenamed('SLA_due_date', 'case_due_date').show(1, vertical=True)"
   ]
  },
  {
   "cell_type": "code",
   "execution_count": 7,
   "metadata": {},
   "outputs": [],
   "source": [
    "df2 = df2.withColumnRenamed('SLA_due_date', 'case_due_date') # These transformations are being stored in the df2 variable, but will not be executed until necessary for output"
   ]
  },
  {
   "cell_type": "code",
   "execution_count": 8,
   "metadata": {},
   "outputs": [
    {
     "name": "stdout",
     "output_type": "stream",
     "text": [
      "== Physical Plan ==\n",
      "*(1) Project [case_id#51, case_opened_date#52, case_closed_date#53, SLA_due_date#54 AS case_due_date#236, case_late#55, num_days_late#56, case_closed#57, dept_division#58, service_request_type#59, SLA_days#60, case_status#61, source_id#62, request_address#63, council_district#64]\n",
      "+- FileScan csv [case_id#51,case_opened_date#52,case_closed_date#53,SLA_due_date#54,case_late#55,num_days_late#56,case_closed#57,dept_division#58,service_request_type#59,SLA_days#60,case_status#61,source_id#62,request_address#63,council_district#64] Batched: false, DataFilters: [], Format: CSV, Location: InMemoryFileIndex[file:/Users/adamgomez/codeup-data-science/spark-exercises/case.csv], PartitionFilters: [], PushedFilters: [], ReadSchema: struct<case_id:int,case_opened_date:string,case_closed_date:string,SLA_due_date:string,case_late:...\n",
      "\n",
      "\n"
     ]
    }
   ],
   "source": [
    "df2.explain() #Notice that SLA_due_date has been changed to case_due_date (near the top of the output in line *(1))"
   ]
  },
  {
   "cell_type": "markdown",
   "metadata": {},
   "source": [
    "Are case_late and case_closed simple boolean representations?"
   ]
  },
  {
   "cell_type": "code",
   "execution_count": 9,
   "metadata": {},
   "outputs": [
    {
     "name": "stdout",
     "output_type": "stream",
     "text": [
      "+---------+-----------+------+\n",
      "|case_late|case_closed| count|\n",
      "+---------+-----------+------+\n",
      "|       NO|        YES|735616|\n",
      "|      YES|        YES| 87978|\n",
      "|       NO|         NO| 11585|\n",
      "|      YES|         NO|  6525|\n",
      "+---------+-----------+------+\n",
      "\n"
     ]
    }
   ],
   "source": [
    "df2.groupby('case_late', 'case_closed').count().show()"
   ]
  },
  {
   "cell_type": "markdown",
   "metadata": {},
   "source": [
    "Now that we have verified that YES and NO are the only options, lets convert to boolean"
   ]
  },
  {
   "cell_type": "code",
   "execution_count": 10,
   "metadata": {},
   "outputs": [],
   "source": [
    "df2 = df2.withColumn(\"case_late\", expr(\"case_late == 'YES'\")) # Reassigns the YES to True and NO to False"
   ]
  },
  {
   "cell_type": "code",
   "execution_count": 11,
   "metadata": {},
   "outputs": [],
   "source": [
    "df2 = df2.withColumn(\"case_closed\", expr(\"case_closed == 'YES'\"))"
   ]
  },
  {
   "cell_type": "code",
   "execution_count": 12,
   "metadata": {},
   "outputs": [
    {
     "name": "stdout",
     "output_type": "stream",
     "text": [
      "-RECORD 0------------------------------------\n",
      " case_id              | 1014127332           \n",
      " case_opened_date     | 1/1/18 0:42          \n",
      " case_closed_date     | 1/1/18 12:29         \n",
      " case_due_date        | 9/26/20 0:42         \n",
      " case_late            | false                \n",
      " num_days_late        | -998.5087616000001   \n",
      " case_closed          | true                 \n",
      " dept_division        | Field Operations     \n",
      " service_request_type | Stray Animal         \n",
      " SLA_days             | 999.0                \n",
      " case_status          | Closed               \n",
      " source_id            | svcCRMLS             \n",
      " request_address      | 2315  EL PASO ST,... \n",
      " council_district     | 5                    \n",
      "only showing top 1 row\n",
      "\n"
     ]
    }
   ],
   "source": [
    "df2.show(1, vertical=True)"
   ]
  },
  {
   "cell_type": "markdown",
   "metadata": {},
   "source": [
    "Can we convert the council_district to a different number format?"
   ]
  },
  {
   "cell_type": "code",
   "execution_count": 13,
   "metadata": {},
   "outputs": [
    {
     "name": "stdout",
     "output_type": "stream",
     "text": [
      "+----------------+-------------------------------------+\n",
      "|council_district|format_string(%03d, council_district)|\n",
      "+----------------+-------------------------------------+\n",
      "|               5|                                  005|\n",
      "|               3|                                  003|\n",
      "|               3|                                  003|\n",
      "|               3|                                  003|\n",
      "|               7|                                  007|\n",
      "|               7|                                  007|\n",
      "|               4|                                  004|\n",
      "|               4|                                  004|\n",
      "|               4|                                  004|\n",
      "|               4|                                  004|\n",
      "|               4|                                  004|\n",
      "|               4|                                  004|\n",
      "|               4|                                  004|\n",
      "|               4|                                  004|\n",
      "|               4|                                  004|\n",
      "|               4|                                  004|\n",
      "|               4|                                  004|\n",
      "|               4|                                  004|\n",
      "|               4|                                  004|\n",
      "|               4|                                  004|\n",
      "+----------------+-------------------------------------+\n",
      "only showing top 20 rows\n",
      "\n"
     ]
    }
   ],
   "source": [
    "df2.select(col('council_district'), format_string(\"%03d\", col(\"council_district\"))).show()"
   ]
  },
  {
   "cell_type": "code",
   "execution_count": 14,
   "metadata": {},
   "outputs": [
    {
     "name": "stdout",
     "output_type": "stream",
     "text": [
      "-RECORD 0------------------------------------\n",
      " case_id              | 1014127332           \n",
      " case_opened_date     | 1/1/18 0:42          \n",
      " case_closed_date     | 1/1/18 12:29         \n",
      " case_due_date        | 9/26/20 0:42         \n",
      " case_late            | false                \n",
      " num_days_late        | -998.5087616000001   \n",
      " case_closed          | true                 \n",
      " dept_division        | Field Operations     \n",
      " service_request_type | Stray Animal         \n",
      " SLA_days             | 999.0                \n",
      " case_status          | Closed               \n",
      " source_id            | svcCRMLS             \n",
      " request_address      | 2315  EL PASO ST,... \n",
      " council_district     | 005                  \n",
      "only showing top 1 row\n",
      "\n"
     ]
    }
   ],
   "source": [
    "df2.withColumn(\"council_district\", format_string(\"%03d\", col(\"council_district\"))).show(1, vertical=True)"
   ]
  },
  {
   "cell_type": "code",
   "execution_count": 15,
   "metadata": {},
   "outputs": [],
   "source": [
    "df2 = df2.withColumn(\"council_district\", format_string(\"%03d\", col(\"council_district\")))"
   ]
  },
  {
   "cell_type": "code",
   "execution_count": 16,
   "metadata": {},
   "outputs": [
    {
     "name": "stdout",
     "output_type": "stream",
     "text": [
      "-RECORD 0------------------------------------\n",
      " case_id              | 1014127332           \n",
      " case_opened_date     | 1/1/18 0:42          \n",
      " case_closed_date     | 1/1/18 12:29         \n",
      " case_due_date        | 9/26/20 0:42         \n",
      " case_late            | false                \n",
      " num_days_late        | -998.5087616000001   \n",
      " case_closed          | true                 \n",
      " dept_division        | Field Operations     \n",
      " service_request_type | Stray Animal         \n",
      " SLA_days             | 999.0                \n",
      " case_status          | Closed               \n",
      " source_id            | svcCRMLS             \n",
      " request_address      | 2315  EL PASO ST,... \n",
      " council_district     | 005                  \n",
      "only showing top 1 row\n",
      "\n"
     ]
    }
   ],
   "source": [
    "df2.show(1, vertical=True)"
   ]
  },
  {
   "cell_type": "code",
   "execution_count": 17,
   "metadata": {
    "scrolled": true
   },
   "outputs": [
    {
     "name": "stdout",
     "output_type": "stream",
     "text": [
      "== Physical Plan ==\n",
      "*(1) Project [case_id#51, case_opened_date#52, case_closed_date#53, SLA_due_date#54 AS case_due_date#236, (case_late#55 = YES) AS case_late#287, num_days_late#56, (case_closed#57 = YES) AS case_closed#302, dept_division#58, service_request_type#59, SLA_days#60, case_status#61, source_id#62, request_address#63, format_string(%03d, council_district#64) AS council_district#487]\n",
      "+- FileScan csv [case_id#51,case_opened_date#52,case_closed_date#53,SLA_due_date#54,case_late#55,num_days_late#56,case_closed#57,dept_division#58,service_request_type#59,SLA_days#60,case_status#61,source_id#62,request_address#63,council_district#64] Batched: false, DataFilters: [], Format: CSV, Location: InMemoryFileIndex[file:/Users/adamgomez/codeup-data-science/spark-exercises/case.csv], PartitionFilters: [], PushedFilters: [], ReadSchema: struct<case_id:int,case_opened_date:string,case_closed_date:string,SLA_due_date:string,case_late:...\n",
      "\n",
      "\n"
     ]
    }
   ],
   "source": [
    "df2.explain() # Still just one operation. Spark is combining all of our edits into a single Project"
   ]
  },
  {
   "cell_type": "markdown",
   "metadata": {},
   "source": [
    "Can we change the date time into a timestamp?"
   ]
  },
  {
   "cell_type": "code",
   "execution_count": 18,
   "metadata": {},
   "outputs": [
    {
     "name": "stdout",
     "output_type": "stream",
     "text": [
      "+----------------+-----------------------------------------------+\n",
      "|case_opened_date|to_timestamp(`case_opened_date`, 'M/d/yy H:mm')|\n",
      "+----------------+-----------------------------------------------+\n",
      "|     1/1/18 0:42|                            2018-01-01 00:42:00|\n",
      "|     1/1/18 0:46|                            2018-01-01 00:46:00|\n",
      "|     1/1/18 0:48|                            2018-01-01 00:48:00|\n",
      "|     1/1/18 1:29|                            2018-01-01 01:29:00|\n",
      "|     1/1/18 1:34|                            2018-01-01 01:34:00|\n",
      "+----------------+-----------------------------------------------+\n",
      "only showing top 5 rows\n",
      "\n"
     ]
    }
   ],
   "source": [
    "fmt = \"M/d/yy H:mm\"\n",
    "\n",
    "df2.select(\n",
    "    \"case_opened_date\",\n",
    "    to_timestamp(\"case_opened_date\", fmt)).show(5)"
   ]
  },
  {
   "cell_type": "code",
   "execution_count": 19,
   "metadata": {},
   "outputs": [],
   "source": [
    "df2 = df2.withColumn(\"case_opened_date\", to_timestamp(\"case_opened_date\", fmt))"
   ]
  },
  {
   "cell_type": "code",
   "execution_count": 20,
   "metadata": {},
   "outputs": [
    {
     "name": "stdout",
     "output_type": "stream",
     "text": [
      "-RECORD 0------------------------------------\n",
      " case_id              | 1014127332           \n",
      " case_opened_date     | 2018-01-01 00:42:00  \n",
      " case_closed_date     | 1/1/18 12:29         \n",
      " case_due_date        | 9/26/20 0:42         \n",
      " case_late            | false                \n",
      " num_days_late        | -998.5087616000001   \n",
      " case_closed          | true                 \n",
      " dept_division        | Field Operations     \n",
      " service_request_type | Stray Animal         \n",
      " SLA_days             | 999.0                \n",
      " case_status          | Closed               \n",
      " source_id            | svcCRMLS             \n",
      " request_address      | 2315  EL PASO ST,... \n",
      " council_district     | 005                  \n",
      "only showing top 1 row\n",
      "\n"
     ]
    }
   ],
   "source": [
    "df2.show(1, vertical=True) # case_opened_date has correctly be formatted"
   ]
  },
  {
   "cell_type": "code",
   "execution_count": 21,
   "metadata": {},
   "outputs": [],
   "source": [
    "df2 = df2.withColumn(\"case_closed_date\", to_timestamp(\"case_closed_date\", fmt))\n",
    "df2 = df2.withColumn(\"case_due_date\", to_timestamp(\"case_due_date\", fmt))"
   ]
  },
  {
   "cell_type": "code",
   "execution_count": 22,
   "metadata": {},
   "outputs": [
    {
     "name": "stdout",
     "output_type": "stream",
     "text": [
      "-RECORD 0------------------------------------\n",
      " case_id              | 1014127332           \n",
      " case_opened_date     | 2018-01-01 00:42:00  \n",
      " case_closed_date     | 2018-01-01 12:29:00  \n",
      " case_due_date        | 2020-09-26 00:42:00  \n",
      " case_late            | false                \n",
      " num_days_late        | -998.5087616000001   \n",
      " case_closed          | true                 \n",
      " dept_division        | Field Operations     \n",
      " service_request_type | Stray Animal         \n",
      " SLA_days             | 999.0                \n",
      " case_status          | Closed               \n",
      " source_id            | svcCRMLS             \n",
      " request_address      | 2315  EL PASO ST,... \n",
      " council_district     | 005                  \n",
      "only showing top 1 row\n",
      "\n"
     ]
    }
   ],
   "source": [
    "df2.show(1, vertical=True)"
   ]
  },
  {
   "cell_type": "markdown",
   "metadata": {},
   "source": [
    "Let's normalize the text data in the address column"
   ]
  },
  {
   "cell_type": "code",
   "execution_count": 23,
   "metadata": {},
   "outputs": [
    {
     "name": "stdout",
     "output_type": "stream",
     "text": [
      "+----------------------------------------+\n",
      "|request_address                         |\n",
      "+----------------------------------------+\n",
      "|2315  EL PASO ST, San Antonio, 78207    |\n",
      "|2215  GOLIAD RD, San Antonio, 78223     |\n",
      "|102  PALFREY ST W, San Antonio, 78223   |\n",
      "|114  LA GARDE ST, San Antonio, 78223    |\n",
      "|734  CLEARVIEW DR, San Antonio, 78228   |\n",
      "|BANDERA RD and BRESNAHAN                |\n",
      "|10133  FIGARO CANYON, San Antonio, 78251|\n",
      "|10133  FIGARO CANYON, San Antonio, 78251|\n",
      "|10133  FIGARO CANYON, San Antonio, 78251|\n",
      "|10133  FIGARO CANYON, San Antonio, 78251|\n",
      "|10133  FIGARO CANYON, San Antonio, 78251|\n",
      "|10133  FIGARO CANYON, San Antonio, 78251|\n",
      "|10129  BOXING PASS, San Antonio, 78251  |\n",
      "|10129  BOXING PASS, San Antonio, 78251  |\n",
      "|10129  BOXING PASS, San Antonio, 78251  |\n",
      "|834  BARREL POINT, San Antonio, 78251   |\n",
      "|834  BARREL POINT, San Antonio, 78251   |\n",
      "|834  BARREL POINT, San Antonio, 78251   |\n",
      "|834  BARREL POINT, San Antonio, 78251   |\n",
      "|834  BARREL POINT, San Antonio, 78251   |\n",
      "+----------------------------------------+\n",
      "only showing top 20 rows\n",
      "\n"
     ]
    }
   ],
   "source": [
    "df2.select(col(\"request_address\")).show(truncate=False)"
   ]
  },
  {
   "cell_type": "code",
   "execution_count": 24,
   "metadata": {},
   "outputs": [
    {
     "name": "stdout",
     "output_type": "stream",
     "text": [
      "+----------------------------------------+----------------------------------------+\n",
      "|request_address                         |lower(trim(request_address))            |\n",
      "+----------------------------------------+----------------------------------------+\n",
      "|2315  EL PASO ST, San Antonio, 78207    |2315  el paso st, san antonio, 78207    |\n",
      "|2215  GOLIAD RD, San Antonio, 78223     |2215  goliad rd, san antonio, 78223     |\n",
      "|102  PALFREY ST W, San Antonio, 78223   |102  palfrey st w, san antonio, 78223   |\n",
      "|114  LA GARDE ST, San Antonio, 78223    |114  la garde st, san antonio, 78223    |\n",
      "|734  CLEARVIEW DR, San Antonio, 78228   |734  clearview dr, san antonio, 78228   |\n",
      "|BANDERA RD and BRESNAHAN                |bandera rd and bresnahan                |\n",
      "|10133  FIGARO CANYON, San Antonio, 78251|10133  figaro canyon, san antonio, 78251|\n",
      "|10133  FIGARO CANYON, San Antonio, 78251|10133  figaro canyon, san antonio, 78251|\n",
      "|10133  FIGARO CANYON, San Antonio, 78251|10133  figaro canyon, san antonio, 78251|\n",
      "|10133  FIGARO CANYON, San Antonio, 78251|10133  figaro canyon, san antonio, 78251|\n",
      "|10133  FIGARO CANYON, San Antonio, 78251|10133  figaro canyon, san antonio, 78251|\n",
      "|10133  FIGARO CANYON, San Antonio, 78251|10133  figaro canyon, san antonio, 78251|\n",
      "|10129  BOXING PASS, San Antonio, 78251  |10129  boxing pass, san antonio, 78251  |\n",
      "|10129  BOXING PASS, San Antonio, 78251  |10129  boxing pass, san antonio, 78251  |\n",
      "|10129  BOXING PASS, San Antonio, 78251  |10129  boxing pass, san antonio, 78251  |\n",
      "|834  BARREL POINT, San Antonio, 78251   |834  barrel point, san antonio, 78251   |\n",
      "|834  BARREL POINT, San Antonio, 78251   |834  barrel point, san antonio, 78251   |\n",
      "|834  BARREL POINT, San Antonio, 78251   |834  barrel point, san antonio, 78251   |\n",
      "|834  BARREL POINT, San Antonio, 78251   |834  barrel point, san antonio, 78251   |\n",
      "|834  BARREL POINT, San Antonio, 78251   |834  barrel point, san antonio, 78251   |\n",
      "+----------------------------------------+----------------------------------------+\n",
      "only showing top 20 rows\n",
      "\n"
     ]
    }
   ],
   "source": [
    "df2.select(\n",
    "    col(\"request_address\"),\n",
    "    lower(trim(\"request_address\"))\n",
    ").show(truncate=False) # We trim the whitespace and lowercase the letters"
   ]
  },
  {
   "cell_type": "code",
   "execution_count": 25,
   "metadata": {},
   "outputs": [],
   "source": [
    "df2 = df2.withColumn(\"request_address\", lower(trim(\"request_address\")))"
   ]
  },
  {
   "cell_type": "code",
   "execution_count": 26,
   "metadata": {},
   "outputs": [
    {
     "name": "stdout",
     "output_type": "stream",
     "text": [
      "-RECORD 0------------------------------------\n",
      " case_id              | 1014127332           \n",
      " case_opened_date     | 2018-01-01 00:42:00  \n",
      " case_closed_date     | 2018-01-01 12:29:00  \n",
      " case_due_date        | 2020-09-26 00:42:00  \n",
      " case_late            | false                \n",
      " num_days_late        | -998.5087616000001   \n",
      " case_closed          | true                 \n",
      " dept_division        | Field Operations     \n",
      " service_request_type | Stray Animal         \n",
      " SLA_days             | 999.0                \n",
      " case_status          | Closed               \n",
      " source_id            | svcCRMLS             \n",
      " request_address      | 2315  el paso st,... \n",
      " council_district     | 005                  \n",
      "only showing top 1 row\n",
      "\n"
     ]
    }
   ],
   "source": [
    "df2.show(1, vertical=True)"
   ]
  },
  {
   "cell_type": "markdown",
   "metadata": {},
   "source": [
    "Can we extract the zipcode from the address to its own column?"
   ]
  },
  {
   "cell_type": "code",
   "execution_count": 27,
   "metadata": {},
   "outputs": [
    {
     "name": "stdout",
     "output_type": "stream",
     "text": [
      "+----------------------------------------+------------------------------------------+\n",
      "|request_address                         |regexp_extract(request_address, (\\d+)$, 1)|\n",
      "+----------------------------------------+------------------------------------------+\n",
      "|2315  el paso st, san antonio, 78207    |78207                                     |\n",
      "|2215  goliad rd, san antonio, 78223     |78223                                     |\n",
      "|102  palfrey st w, san antonio, 78223   |78223                                     |\n",
      "|114  la garde st, san antonio, 78223    |78223                                     |\n",
      "|734  clearview dr, san antonio, 78228   |78228                                     |\n",
      "|bandera rd and bresnahan                |                                          |\n",
      "|10133  figaro canyon, san antonio, 78251|78251                                     |\n",
      "|10133  figaro canyon, san antonio, 78251|78251                                     |\n",
      "|10133  figaro canyon, san antonio, 78251|78251                                     |\n",
      "|10133  figaro canyon, san antonio, 78251|78251                                     |\n",
      "|10133  figaro canyon, san antonio, 78251|78251                                     |\n",
      "|10133  figaro canyon, san antonio, 78251|78251                                     |\n",
      "|10129  boxing pass, san antonio, 78251  |78251                                     |\n",
      "|10129  boxing pass, san antonio, 78251  |78251                                     |\n",
      "|10129  boxing pass, san antonio, 78251  |78251                                     |\n",
      "|834  barrel point, san antonio, 78251   |78251                                     |\n",
      "|834  barrel point, san antonio, 78251   |78251                                     |\n",
      "|834  barrel point, san antonio, 78251   |78251                                     |\n",
      "|834  barrel point, san antonio, 78251   |78251                                     |\n",
      "|834  barrel point, san antonio, 78251   |78251                                     |\n",
      "+----------------------------------------+------------------------------------------+\n",
      "only showing top 20 rows\n",
      "\n"
     ]
    }
   ],
   "source": [
    "df2.select(\"request_address\",\n",
    "          regexp_extract(\"request_address\", r\"(\\d+)$\", 1)\n",
    ").show(truncate=False)"
   ]
  },
  {
   "cell_type": "code",
   "execution_count": 28,
   "metadata": {},
   "outputs": [],
   "source": [
    "df2 = df2.withColumn('zipcode', regexp_extract('request_address', r'(\\d+)$', 1))"
   ]
  },
  {
   "cell_type": "code",
   "execution_count": 29,
   "metadata": {},
   "outputs": [
    {
     "name": "stdout",
     "output_type": "stream",
     "text": [
      "-RECORD 0------------------------------------\n",
      " case_id              | 1014127332           \n",
      " case_opened_date     | 2018-01-01 00:42:00  \n",
      " case_closed_date     | 2018-01-01 12:29:00  \n",
      " case_due_date        | 2020-09-26 00:42:00  \n",
      " case_late            | false                \n",
      " num_days_late        | -998.5087616000001   \n",
      " case_closed          | true                 \n",
      " dept_division        | Field Operations     \n",
      " service_request_type | Stray Animal         \n",
      " SLA_days             | 999.0                \n",
      " case_status          | Closed               \n",
      " source_id            | svcCRMLS             \n",
      " request_address      | 2315  el paso st,... \n",
      " council_district     | 005                  \n",
      " zipcode              | 78207                \n",
      "only showing top 1 row\n",
      "\n"
     ]
    }
   ],
   "source": [
    "\n",
    "df2.show(1, vertical=True)"
   ]
  },
  {
   "cell_type": "code",
   "execution_count": 30,
   "metadata": {},
   "outputs": [
    {
     "name": "stdout",
     "output_type": "stream",
     "text": [
      "+-------------------+-------------------+-----------+--------+-------------+-------------+\n",
      "|   case_opened_date|   case_closed_date|case_closed|case_age|days_to_close|case_lifetime|\n",
      "+-------------------+-------------------+-----------+--------+-------------+-------------+\n",
      "|2018-01-01 00:42:00|2018-01-01 12:29:00|       true|    1064|            0|            0|\n",
      "|2018-01-01 00:46:00|2018-01-03 08:11:00|       true|    1064|            2|            2|\n",
      "|2018-01-01 00:48:00|2018-01-02 07:57:00|       true|    1064|            1|            1|\n",
      "|2018-01-01 01:29:00|2018-01-02 08:13:00|       true|    1064|            1|            1|\n",
      "|2018-01-01 01:34:00|2018-01-01 13:29:00|       true|    1064|            0|            0|\n",
      "|2018-01-01 06:28:00|2018-01-01 14:38:00|       true|    1064|            0|            0|\n",
      "|2018-01-01 06:57:00|2018-01-02 15:32:00|       true|    1064|            1|            1|\n",
      "|2018-01-01 06:58:00|2018-01-02 15:32:00|       true|    1064|            1|            1|\n",
      "|2018-01-01 06:58:00|2018-01-02 15:32:00|       true|    1064|            1|            1|\n",
      "|2018-01-01 06:59:00|2018-01-02 15:32:00|       true|    1064|            1|            1|\n",
      "+-------------------+-------------------+-----------+--------+-------------+-------------+\n",
      "only showing top 10 rows\n",
      "\n"
     ]
    }
   ],
   "source": [
    "# case_lifetime\n",
    "#     - if case is closed, use the diff between close and open dates (days_to_close)\n",
    "#     - else diff between open day and now -- case_age\n",
    "\n",
    "df2.select(\n",
    "    \"case_opened_date\", \n",
    "    \"case_closed_date\", \n",
    "    \"case_closed\",\n",
    "    datediff(current_timestamp(), \"case_opened_date\").alias(\"case_age\"),\n",
    "    datediff(\"case_closed_date\", \"case_opened_date\").alias(\"days_to_close\"),\n",
    ").withColumn(\n",
    "        \"case_lifetime\",\n",
    "        when(col(\"case_closed\"), col(\"days_to_close\")).otherwise(\"case_age\")\n",
    ").show(10)"
   ]
  },
  {
   "cell_type": "code",
   "execution_count": 31,
   "metadata": {},
   "outputs": [],
   "source": [
    "df2 = df2.withColumn(\"case_age\", datediff(current_timestamp(), \"case_opened_date\").alias(\"case_age\"))\n",
    "df2 = df2.withColumn(\"days_to_close\", datediff(\"case_closed_date\", \"case_opened_date\").alias(\"days_to_close\"))\n",
    "df2 = df2.withColumn(\"case_lifetime\", when(col(\"case_closed\"), col(\"days_to_close\")).otherwise(col(\"case_age\")))"
   ]
  },
  {
   "cell_type": "code",
   "execution_count": 32,
   "metadata": {},
   "outputs": [
    {
     "name": "stdout",
     "output_type": "stream",
     "text": [
      "-RECORD 0------------------------------------\n",
      " case_id              | 1014127332           \n",
      " case_opened_date     | 2018-01-01 00:42:00  \n",
      " case_closed_date     | 2018-01-01 12:29:00  \n",
      " case_due_date        | 2020-09-26 00:42:00  \n",
      " case_late            | false                \n",
      " num_days_late        | -998.5087616000001   \n",
      " case_closed          | true                 \n",
      " dept_division        | Field Operations     \n",
      " service_request_type | Stray Animal         \n",
      " SLA_days             | 999.0                \n",
      " case_status          | Closed               \n",
      " source_id            | svcCRMLS             \n",
      " request_address      | 2315  el paso st,... \n",
      " council_district     | 005                  \n",
      " zipcode              | 78207                \n",
      " case_age             | 1064                 \n",
      " days_to_close        | 0                    \n",
      " case_lifetime        | 0                    \n",
      "only showing top 1 row\n",
      "\n"
     ]
    }
   ],
   "source": [
    "df2.show(1, vertical=True)"
   ]
  },
  {
   "cell_type": "code",
   "execution_count": 33,
   "metadata": {},
   "outputs": [
    {
     "name": "stdout",
     "output_type": "stream",
     "text": [
      "-RECORD 0------------------------------------\n",
      " case_id              | 1014128388           \n",
      " case_opened_date     | 2018-01-02 09:39:00  \n",
      " case_closed_date     | null                 \n",
      " case_due_date        | 2018-01-09 09:39:00  \n",
      " case_late            | true                 \n",
      " num_days_late        | 211.5974884          \n",
      " case_closed          | false                \n",
      " dept_division        | 311 Call Center      \n",
      " service_request_type | Complaint            \n",
      " SLA_days             | 7.0                  \n",
      " case_status          | Open                 \n",
      " source_id            | mt13131              \n",
      " request_address      | 7326  westglade p... \n",
      " council_district     | 006                  \n",
      " zipcode              | 78227                \n",
      " case_age             | 1063                 \n",
      " days_to_close        | null                 \n",
      " case_lifetime        | 1063                 \n",
      "-RECORD 1------------------------------------\n",
      " case_id              | 1014128790           \n",
      " case_opened_date     | 2018-01-02 10:49:00  \n",
      " case_closed_date     | null                 \n",
      " case_due_date        | 2018-05-10 10:49:00  \n",
      " case_late            | true                 \n",
      " num_days_late        | 90.54925926          \n",
      " case_closed          | false                \n",
      " dept_division        | Dangerous Premise    \n",
      " service_request_type | DSDB Ordered/Hold... \n",
      " SLA_days             | 128.0                \n",
      " case_status          | Open                 \n",
      " source_id            | CRM_Listener         \n",
      " request_address      | 2202  potosi st, ... \n",
      " council_district     | 005                  \n",
      " zipcode              | 78207                \n",
      " case_age             | 1063                 \n",
      " days_to_close        | null                 \n",
      " case_lifetime        | 1063                 \n",
      "-RECORD 2------------------------------------\n",
      " case_id              | 1014129873           \n",
      " case_opened_date     | 2018-01-02 13:45:00  \n",
      " case_closed_date     | null                 \n",
      " case_due_date        | 2018-03-07 13:45:00  \n",
      " case_late            | true                 \n",
      " num_days_late        | 154.4266551          \n",
      " case_closed          | false                \n",
      " dept_division        | Code Enforcement     \n",
      " service_request_type | Permits Building     \n",
      " SLA_days             | 64.0                 \n",
      " case_status          | Open                 \n",
      " source_id            | CRM_Listener         \n",
      " request_address      | 3304  fredsbg rd,... \n",
      " council_district     | 001                  \n",
      " zipcode              | 78201                \n",
      " case_age             | 1063                 \n",
      " days_to_close        | null                 \n",
      " case_lifetime        | 1063                 \n",
      "only showing top 3 rows\n",
      "\n"
     ]
    }
   ],
   "source": [
    "df2.where(~col(\"case_closed\")).show(3, vertical=True)"
   ]
  },
  {
   "cell_type": "markdown",
   "metadata": {},
   "source": [
    "Lets join the data contained in the dept.csv to our df2"
   ]
  },
  {
   "cell_type": "code",
   "execution_count": 34,
   "metadata": {
    "scrolled": true
   },
   "outputs": [
    {
     "name": "stdout",
     "output_type": "stream",
     "text": [
      "+--------------------+--------------------+----------------------+-------------------+\n",
      "|       dept_division|           dept_name|standardized_dept_name|dept_subject_to_SLA|\n",
      "+--------------------+--------------------+----------------------+-------------------+\n",
      "|     311 Call Center|    Customer Service|      Customer Service|                YES|\n",
      "|               Brush|Solid Waste Manag...|           Solid Waste|                YES|\n",
      "|     Clean and Green|Parks and Recreation|    Parks & Recreation|                YES|\n",
      "|Clean and Green N...|Parks and Recreation|    Parks & Recreation|                YES|\n",
      "|    Code Enforcement|Code Enforcement ...|  DSD/Code Enforcement|                YES|\n",
      "|Code Enforcement ...|Code Enforcement ...|  DSD/Code Enforcement|                YES|\n",
      "|Code Enforcement ...|                null|  DSD/Code Enforcement|                YES|\n",
      "|   Dangerous Premise|Code Enforcement ...|  DSD/Code Enforcement|                YES|\n",
      "|Dangerous Premise...|Code Enforcement ...|  DSD/Code Enforcement|                YES|\n",
      "|Director's Office...|Trans & Cap Impro...|  Trans & Cap Impro...|                YES|\n",
      "|          District 1|        City Council|          City Council|                 NO|\n",
      "|         District 10|        City Council|          City Council|                 NO|\n",
      "|          District 2|        City Council|          City Council|                 NO|\n",
      "|          District 3|        City Council|          City Council|                 NO|\n",
      "|          District 6|        City Council|          City Council|                 NO|\n",
      "|          District 7|        City Council|          City Council|                 NO|\n",
      "|          District 8|        City Council|          City Council|                 NO|\n",
      "|          District 9|        City Council|          City Council|                 NO|\n",
      "|Engineering Division|Development Services|  DSD/Code Enforcement|                YES|\n",
      "|    Facility License|        Metro Health|          Metro Health|                YES|\n",
      "+--------------------+--------------------+----------------------+-------------------+\n",
      "only showing top 20 rows\n",
      "\n"
     ]
    }
   ],
   "source": [
    "spark.read.csv(\"dept.csv\", header=True).show()"
   ]
  },
  {
   "cell_type": "code",
   "execution_count": 35,
   "metadata": {},
   "outputs": [],
   "source": [
    "dept = spark.read.csv(\"dept.csv\", header=True)"
   ]
  },
  {
   "cell_type": "code",
   "execution_count": 36,
   "metadata": {},
   "outputs": [
    {
     "name": "stdout",
     "output_type": "stream",
     "text": [
      "-RECORD 0--------------------------------------\n",
      " dept_division          | Field Operations     \n",
      " case_id                | 1014127332           \n",
      " case_opened_date       | 2018-01-01 00:42:00  \n",
      " case_closed_date       | 2018-01-01 12:29:00  \n",
      " case_due_date          | 2020-09-26 00:42:00  \n",
      " case_late              | false                \n",
      " num_days_late          | -998.5087616000001   \n",
      " case_closed            | true                 \n",
      " service_request_type   | Stray Animal         \n",
      " SLA_days               | 999.0                \n",
      " case_status            | Closed               \n",
      " source_id              | svcCRMLS             \n",
      " request_address        | 2315  el paso st,... \n",
      " council_district       | 005                  \n",
      " zipcode                | 78207                \n",
      " case_age               | 1064                 \n",
      " days_to_close          | 0                    \n",
      " case_lifetime          | 0                    \n",
      " dept_name              | Animal Care Services \n",
      " standardized_dept_name | Animal Care Services \n",
      " dept_subject_to_SLA    | YES                  \n",
      "-RECORD 1--------------------------------------\n",
      " dept_division          | Storm Water          \n",
      " case_id                | 1014127333           \n",
      " case_opened_date       | 2018-01-01 00:46:00  \n",
      " case_closed_date       | 2018-01-03 08:11:00  \n",
      " case_due_date          | 2018-01-05 08:30:00  \n",
      " case_late              | false                \n",
      " num_days_late          | -2.0126041669999997  \n",
      " case_closed            | true                 \n",
      " service_request_type   | Removal Of Obstru... \n",
      " SLA_days               | 4.322222222          \n",
      " case_status            | Closed               \n",
      " source_id              | svcCRMSS             \n",
      " request_address        | 2215  goliad rd, ... \n",
      " council_district       | 003                  \n",
      " zipcode                | 78223                \n",
      " case_age               | 1064                 \n",
      " days_to_close          | 2                    \n",
      " case_lifetime          | 2                    \n",
      " dept_name              | Trans & Cap Impro... \n",
      " standardized_dept_name | Trans & Cap Impro... \n",
      " dept_subject_to_SLA    | YES                  \n",
      "-RECORD 2--------------------------------------\n",
      " dept_division          | Storm Water          \n",
      " case_id                | 1014127334           \n",
      " case_opened_date       | 2018-01-01 00:48:00  \n",
      " case_closed_date       | 2018-01-02 07:57:00  \n",
      " case_due_date          | 2018-01-05 08:30:00  \n",
      " case_late              | false                \n",
      " num_days_late          | -3.022337963         \n",
      " case_closed            | true                 \n",
      " service_request_type   | Removal Of Obstru... \n",
      " SLA_days               | 4.320729167          \n",
      " case_status            | Closed               \n",
      " source_id              | svcCRMSS             \n",
      " request_address        | 102  palfrey st w... \n",
      " council_district       | 003                  \n",
      " zipcode                | 78223                \n",
      " case_age               | 1064                 \n",
      " days_to_close          | 1                    \n",
      " case_lifetime          | 1                    \n",
      " dept_name              | Trans & Cap Impro... \n",
      " standardized_dept_name | Trans & Cap Impro... \n",
      " dept_subject_to_SLA    | YES                  \n",
      "-RECORD 3--------------------------------------\n",
      " dept_division          | Code Enforcement     \n",
      " case_id                | 1014127335           \n",
      " case_opened_date       | 2018-01-01 01:29:00  \n",
      " case_closed_date       | 2018-01-02 08:13:00  \n",
      " case_due_date          | 2018-01-17 08:30:00  \n",
      " case_late              | false                \n",
      " num_days_late          | -15.01148148         \n",
      " case_closed            | true                 \n",
      " service_request_type   | Front Or Side Yar... \n",
      " SLA_days               | 16.29188657          \n",
      " case_status            | Closed               \n",
      " source_id              | svcCRMSS             \n",
      " request_address        | 114  la garde st,... \n",
      " council_district       | 003                  \n",
      " zipcode                | 78223                \n",
      " case_age               | 1064                 \n",
      " days_to_close          | 1                    \n",
      " case_lifetime          | 1                    \n",
      " dept_name              | Code Enforcement ... \n",
      " standardized_dept_name | DSD/Code Enforcement \n",
      " dept_subject_to_SLA    | YES                  \n",
      "-RECORD 4--------------------------------------\n",
      " dept_division          | Field Operations     \n",
      " case_id                | 1014127336           \n",
      " case_opened_date       | 2018-01-01 01:34:00  \n",
      " case_closed_date       | 2018-01-01 13:29:00  \n",
      " case_due_date          | 2018-01-01 04:34:00  \n",
      " case_late              | true                 \n",
      " num_days_late          | 0.37216435200000003  \n",
      " case_closed            | true                 \n",
      " service_request_type   | Animal Cruelty(Cr... \n",
      " SLA_days               | 0.125                \n",
      " case_status            | Closed               \n",
      " source_id              | svcCRMSS             \n",
      " request_address        | 734  clearview dr... \n",
      " council_district       | 007                  \n",
      " zipcode                | 78228                \n",
      " case_age               | 1064                 \n",
      " days_to_close          | 0                    \n",
      " case_lifetime          | 0                    \n",
      " dept_name              | Animal Care Services \n",
      " standardized_dept_name | Animal Care Services \n",
      " dept_subject_to_SLA    | YES                  \n",
      "only showing top 5 rows\n",
      "\n"
     ]
    }
   ],
   "source": [
    "df2.join(dept, \"dept_division\", \"left\").show(5, vertical=True)"
   ]
  },
  {
   "cell_type": "code",
   "execution_count": 37,
   "metadata": {},
   "outputs": [],
   "source": [
    "df2 = df2.join(dept, \"dept_division\", \"left\")"
   ]
  },
  {
   "cell_type": "code",
   "execution_count": 38,
   "metadata": {},
   "outputs": [
    {
     "data": {
      "text/plain": [
       "DataFrame[dept_division: string, case_id: int, case_opened_date: timestamp, case_closed_date: timestamp, case_due_date: timestamp, case_late: boolean, num_days_late: double, case_closed: boolean, service_request_type: string, SLA_days: double, case_status: string, source_id: string, request_address: string, council_district: string, zipcode: string, case_age: int, days_to_close: int, case_lifetime: int, dept_name: string, standardized_dept_name: string, dept_subject_to_SLA: string]"
      ]
     },
     "execution_count": 38,
     "metadata": {},
     "output_type": "execute_result"
    }
   ],
   "source": [
    "df2"
   ]
  },
  {
   "cell_type": "code",
   "execution_count": null,
   "metadata": {},
   "outputs": [],
   "source": [
    "train, test = df2.randomSplit([.8, .2])"
   ]
  }
 ],
 "metadata": {
  "kernelspec": {
   "display_name": "Python 3",
   "language": "python",
   "name": "python3"
  },
  "language_info": {
   "codemirror_mode": {
    "name": "ipython",
    "version": 3
   },
   "file_extension": ".py",
   "mimetype": "text/x-python",
   "name": "python",
   "nbconvert_exporter": "python",
   "pygments_lexer": "ipython3",
   "version": "3.7.9"
  }
 },
 "nbformat": 4,
 "nbformat_minor": 4
}
